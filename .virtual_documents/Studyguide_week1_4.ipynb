# Load required packages 
library(cowplot)
library(datateachr)
library(infer)
library(repr)
library(tidyverse)
library(moderndive)
library(taxyvr)


# This is the part of mean
# Read data and apply conditions then assign it to tax_pop
tax_pop <- tax_2019 %>%
           filter(!is.na(current_land_value),
                  current_land_value > 1,
                  legal_type == "STRATA",
                  zone_category == "Multiple Family Dwelling") %>%
            select(current_land_value)

# size of tax_pop
tax_size <- dim(tax_pop)
tax_obs <- nrow(tax_pop)

# Read first six rows of tax_pop
#head(tax_pop)
# Retrieves all column names of the pop
tax_cols <- colnames(tax_pop)

# We are interested to estimate pop mean of current_land_value
# In this case, we have acccess to population
# Let`s calculate it and then compare results of the sample estimates
# We can do this in two ways:
# either dblyr way or tidyverse way

# But since original data contained NAs , so we need to filter out those NAs
tax_fast <- mean(tax_pop$current_land_value, na.rm = TRUE)
tax_tidy <- tax_pop %>%
            filter(!is.na(current_land_value)) %>%
                  summarize(mean = mean(current_land_value)) 


# combines the two speed means and prints
tax_means <- rbind(tax_fast , tax_tidy)

# Visualize the population current land value
tax_plot <- tax_pop %>%
            filter(!is.na(current_land_value)) %>%
            ggplot(aes(x = current_land_value)) +
            geom_histogram(bins = 50)+
            xlab("Current Land Value") +
            ggtitle("Land Value Distribution") +
            scale_x_continuous(labels = scales::dollar_format()) +
            theme(axis.text.x = element_text(angle = 45, hjust = 1))

# Let`s try following "Steps of statistical inference" to estimate
# the current_land_value pop mean above

# 1) Take a random sample, usually size <= 10 % of population size (STAT 200)
# Since this data is large enough :
# 213182 rows (observation) * 32 columns (variables)
# A good size of sample is 50 or 100 which is much lower than 10% of pop size

# Set a seed (this allows us a reproducible workflow)
# BTW you can try commenting out the seed !!
# Lets do single sample first
set.seed(3332)
tax_sample_one <- tax_pop %>%
              rep_sample_n(size = 50, reps = 1)

# Visualize the sample using ggplot
tax_one_plot <- tax_sample_one %>%
                ggplot(aes(x = current_land_value)) +
                geom_histogram(bins=50,color = "white") + 
                labs(x = "Current Land Value" ,
                    title = "Land value Distribution of One sample") +
                scale_x_continuous(labels = scales::dollar_format()) +
                theme(axis.text.x = element_text(angle = 45, hjust = 1))
#tax_one_plot

# 2) Calculate The point estimate (this case, the mean of the sample)
tax_one_mean <- tax_sample_one %>%
                summarize(sample_mean = mean(current_land_value)) 

# Compare with pop mean
tax_one_vs_pop <- data.frame("One" = tax_one_mean,
                            "Population mean" = tax_fast) %>%
                  select(-1)

# ------------------------------------------------------------------

# Now let`s try taking many different samples
# 1) Take many random samples of size 50
tax_many_sample <- tax_pop %>%
                   rep_sample_n(size = 50, reps = 1000)

# 2) Calculate The point estimates (this case, the mean of many samples)
# Note this the mean of every corresponding sample
# Eg mean of sample 1 = 586428
# mean of sample 9 = 547782
tax_many_mean <- tax_many_sample %>%
                 group_by(replicate) %>%
                summarize(sample_mean = mean(current_land_value)) 

# Now we need an extra step to take mean of these means, as this value
# approximates closely to actual population parameter

tax_mean_many_mean <- tax_many_mean %>%
                      summarize(mean = mean(sample_mean))


# Visualize the sampling distribution using ggplot
# We added a red line, which is actual population mean
tax_many_plot <- tax_many_mean %>%
                ggplot(aes(x = sample_mean)) +
                geom_histogram(bins=50,color = "white") + 
                labs(x = "Sample mean of Current Land Value" ,
                    title = "Sampling distribution of Sample means") +
                geom_vline(xintercept = tax_fast, color = "red") +
                scale_x_continuous(labels = scales::dollar_format()) +
                theme(axis.text.x = element_text(angle = 45, hjust = 1))
#tax_many_plot


# Compare with pop mean and one sample mean
tax_compare_means <- merge(tax_one_vs_pop, tax_mean_many_mean) %>%
                     setNames(., 
                              c("Mean of One Sample", "Actual Population Mean",
                             "Mean of Many Sample Means"))
                     
tax_compare_means







# This is the part for proportion


# bowl itself is a population data taken from "moderndive" library
# We are going to assign it to "pop" object
pop <- bowl

# Reads first 6 rows of the data
# After readig, we know there are 2 columns in the data
# ball#ad(pop)

# Let`s say we are interested in calculating the mean 


# # Segment 1: sample size = 25 ------------------------------
# # 1.a) Virtually use shovel 1000 times
# virtual_samples_25 <- bowl %>% 
#   rep_sample_n(size = 25, reps = 1000)

# # 1.b) Compute resulting 1000 replicates of proportion red
# virtual_prop_red_25 <- virtual_samples_25 %>% 
#   group_by(replicate) %>% 
#   summarize(red = sum(color == "red")) %>% 
#   mutate(prop_red = red / 25)

# # 1.c) Plot distribution via a histogram
# ggplot(virtual_prop_red_25, aes(x = prop_red)) +
#   geom_histogram(binwidth = 0.05, boundary = 0.4, color = "white") +
#   labs(x = "Proportion of 25 balls that were red", title = "25") 


# # Segment 2: sample size = 50 ------------------------------
# # 2.a) Virtually use shovel 1000 times
# virtual_samples_50 <- bowl %>% 
#   rep_sample_n(size = 50, reps = 1000)

# # 2.b) Compute resulting 1000 replicates of proportion red
# virtual_prop_red_50 <- virtual_samples_50 %>% 
#   group_by(replicate) %>% 
#   summarize(red = sum(color == "red")) %>% 
#   mutate(prop_red = red / 50)

# # 2.c) Plot distribution via a histogram
# ggplot(virtual_prop_red_50, aes(x = prop_red)) +
#   geom_histogram(binwidth = 0.05, boundary = 0.4, color = "white") +
#   labs(x = "Proportion of 50 balls that were red", title = "50")  


# # Segment 3: sample size = 100 ------------------------------
# # 3.a) Virtually using shovel with 100 slots 1000 times
# virtual_samples_100 <- bowl %>% 
#   rep_sample_n(size = 100, reps = 1000)

# # 3.b) Compute resulting 1000 replicates of proportion red
# virtual_prop_red_100 <- virtual_samples_100 %>% 
#   group_by(replicate) %>% 
#   summarize(red = sum(color == "red")) %>% 
#   mutate(prop_red = red / 100)

# # 3.c) Plot distribution via a histogram
# ggplot(virtual_prop_red_100, aes(x = prop_red)) +
#   geom_histogram(binwidth = 0.05, boundary = 0.4, color = "white") +
#   labs(x = "Proportion of 100 balls that were red", title = "100") 



