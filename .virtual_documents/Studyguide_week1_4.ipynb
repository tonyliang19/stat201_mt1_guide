# Load required packages 
library(cowplot)
library(datateachr)
library(infer)
library(repr)
library(tidyverse)
library(moderndive)


# This is a sample of size 33
tactile_prop_red <- data.frame(tactile_prop_red)
head(tactile_prop_red)

# Visualizing the sample 
tactile_plot <- ggplot(tactile_prop_red, aes(x = prop_red)) +
  geom_histogram(binwidth = 0.05, boundary = 0.4, color = "white") +
  labs(x = "Proportion of 50 balls that were red", 
       title = "Distribution of 33 proportions red") 

tactile_plot





















