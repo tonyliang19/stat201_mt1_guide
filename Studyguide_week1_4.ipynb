{
 "cells": [
  {
   "cell_type": "markdown",
   "id": "fe8ba5d4-2160-4b30-a4c1-0b575de0f0f0",
   "metadata": {},
   "source": [
    "# Stat 201 Week 1 - Week 4 Contents\n",
    "## Author: 201冲冲冲\n",
    "\n",
    "This studyguide covers all contents of week 1 and week of STAT201, eg concepts and their application in R codes. <br> \n",
    "The main title contains hyperlink to textbook, while the hyperlink next to it named <b>\"Doc hyp\"</b>takes you to the content of this guide.\n",
    "</br>\n",
    "The following are topics covered:\n",
    "* <a href=\"https://moderndive.com/7-sampling.html\"><b> Introduction to Statistical Inference and Sampling </b></a> \n",
    "<a href=\"#topic1\">Doc hyp</a>\n",
    "* <a href=\"https://docs.google.com/presentation/d/16DKhcwkkA3bulJ7jaECAEASVVM30_Yf_CBD1ACNZYD4/edit#slide=id.ge4a649f4_10\"><b> Populations and Sampling </b></a>\n",
    "<a href=#topic2>Doc hyp</a>\n",
    "* <a href =\"https://moderndive.com/8-confidence-intervals.html#resampling-simulation\"><b> Bootstrapping and its Relationship to Sampling Distribution </b></a> \n",
    "<a href=#topic3>Doc hyp</a>\n",
    "* <a href =\"https://moderndive.com/8-confidence-intervals.html#ci-build-up\"><b> Confidence Intervals via bootstrapping </b></a>\n",
    "<a href=#topic4>Doc hyp</a>\n",
    "\n",
    "\n",
    "\n"
   ]
  },
  {
   "cell_type": "code",
   "execution_count": 1,
   "id": "7c078e74-a917-4a1d-be91-f218dc9a5d99",
   "metadata": {
    "tags": []
   },
   "outputs": [
    {
     "name": "stderr",
     "output_type": "stream",
     "text": [
      "-- \u001b[1mAttaching packages\u001b[22m ------------------------------------------------------------------------------- tidyverse 1.3.1 --\n",
      "\n",
      "\u001b[32mv\u001b[39m \u001b[34mggplot2\u001b[39m 3.3.5     \u001b[32mv\u001b[39m \u001b[34mpurrr  \u001b[39m 0.3.4\n",
      "\u001b[32mv\u001b[39m \u001b[34mtibble \u001b[39m 3.1.6     \u001b[32mv\u001b[39m \u001b[34mdplyr  \u001b[39m 1.0.7\n",
      "\u001b[32mv\u001b[39m \u001b[34mtidyr  \u001b[39m 1.1.4     \u001b[32mv\u001b[39m \u001b[34mstringr\u001b[39m 1.4.0\n",
      "\u001b[32mv\u001b[39m \u001b[34mreadr  \u001b[39m 2.1.1     \u001b[32mv\u001b[39m \u001b[34mforcats\u001b[39m 0.5.1\n",
      "\n",
      "-- \u001b[1mConflicts\u001b[22m ---------------------------------------------------------------------------------- tidyverse_conflicts() --\n",
      "\u001b[31mx\u001b[39m \u001b[34mdplyr\u001b[39m::\u001b[32mfilter()\u001b[39m masks \u001b[34mstats\u001b[39m::filter()\n",
      "\u001b[31mx\u001b[39m \u001b[34mdplyr\u001b[39m::\u001b[32mlag()\u001b[39m    masks \u001b[34mstats\u001b[39m::lag()\n",
      "\n"
     ]
    }
   ],
   "source": [
    "# Load required packages \n",
    "library(cowplot)\n",
    "library(datateachr)\n",
    "library(infer)\n",
    "library(repr)\n",
    "library(tidyverse)\n",
    "library(moderndive)\n",
    "library(taxyvr)"
   ]
  },
  {
   "cell_type": "markdown",
   "id": "f414840d-b9e0-4c9e-bf00-e3ed0b49be44",
   "metadata": {},
   "source": [
    "## <a id =\"topic1\">Introduction to Statistical Inference and Sampling</a>\n",
    "\n",
    "Let's start with type of analysis questions, In Stat 201, we will mostly focus on inferential questions. \n"
   ]
  },
  {
   "cell_type": "markdown",
   "id": "a958f3f9-8dc2-4b85-a4c9-cb86882efc78",
   "metadata": {},
   "source": [
    "### Types of data analysis questions\n",
    "<br>\n",
    "<img src=\"tables/table1.1_types_q.png\" width=600/>\n",
    "</br>"
   ]
  },
  {
   "cell_type": "markdown",
   "id": "98322995-6ab7-4cf0-8aa4-c218eb4f6b2b",
   "metadata": {},
   "source": [
    "#### Important Statistical Definitions\n",
    "\n",
    "##### Population\n",
    "Collection of individuals or observations that we are interested in. And it's inaccessible in real life.\n",
    "\n",
    "##### Population Parameter\n",
    "\n",
    "<b>Fixed</b> numeric summary of population that is unknown. It is usually estimated by sample statistics.\n",
    "\n",
    "##### Sample\n",
    "A subset of a population.\n",
    "\n",
    "\n",
    "##### Sampling\n",
    "Collecting a sample from population\n",
    "##### Estimate (point)\n",
    "A sample statistic usually sample mean or standard deviation (Standard Error) calculated from sample and estimates the corresponding unknown population parameter.\n",
    "\n",
    "##### Sampling variation\n",
    "Variation exists upon different samples, since they are all random, thus, their sample statistic (mean, sd, var) are also different than each other.\n",
    "\n",
    "##### Statiscal Inference\n",
    "Take a sample of population with appropriate assumptions and calculate its statistic to \"guess\" an unknown population parameter\n",
    "\n",
    "##### Standard Error\n",
    "Quantifies how much we expect of discrepancy varying from sample to sample. Every point estimate has a standard error (STAT344 covers), the lower it is, the better is an estimate. As sample size increases, standard error decreases.\n",
    "\n",
    "##### Sample Distribution\n",
    "How data are distributed inside <b>ONE</b> sample\n",
    "\n",
    "##### Sampling Distribution\n",
    "Distribution of all possible values for point estimates of a parameter, and how often we would expect those estimates to appear when making a number of point estimates. <b>Note:</b> This is not accessible in real life, see <a href=#topic3>Bootstrapping</a>. And the mean of a sampling distribution closely approximates the unknown parameter (pop mean/pop median/pop sd/pop var ....)"
   ]
  },
  {
   "cell_type": "markdown",
   "id": "d1948096-5128-4c54-a8ca-b48933bf61a7",
   "metadata": {},
   "source": [
    "#### Facts\n",
    "\n",
    "##### Sampling methodology:\n",
    "Way of collecting sample, to apply stastical methods we need to make sure we are doing correct way of sampling:\n",
    "* Representative sample (roughly looks like population)\n",
    "* Generalizable(results of sample can genaralize to population)\n",
    "* Unbiasedness (individuals of sample are equally chanced chosen from population)\n",
    "\n",
    "##### Steps of statistical inference\n",
    "1. Take a random sample (following above sampling methodology) from the population\n",
    "2. Calculate point estimate(S) for the sample(s)\n",
    "3. Describe the uncertainty related to your estimate (report your standard error) <b>NOTE:</b> You can ignore this part for now ...."
   ]
  },
  {
   "cell_type": "markdown",
   "id": "ae0e1369-7b78-4037-9260-049575e33dac",
   "metadata": {
    "tags": []
   },
   "source": [
    "#### Coding\n",
    "\n",
    "Try this part after you are familiar with conceptual part above. <br>\n",
    "Let's try <b>\"Steps of statistical inference\"</b> to estimate the mean or proportion of a population. Below is consist of two parts, one for mean, and one for proportion."
   ]
  },
  {
   "cell_type": "markdown",
   "id": "ec925034-123e-4ed1-8902-266bf1096f8d",
   "metadata": {},
   "source": [
    "#### Part 1\n",
    "We are only interested in the population corresponding to multiple-family dwellings in strata housing. In this data set, the properties that correspond to that meet the following criteria:  \n",
    "- **Have a land value greater than \\$1:**  Some properties are assigned a value of `NA`, and these are the properties undergoing big renovations. These values get amended after the renovations and are reflected in the following year's assessment. The same occurs with homes that are assessed at $0.\n",
    "- **Are of legal type land `STRATA`**\n",
    "- **Are of zone category `Multiple Family Dwelling`** "
   ]
  },
  {
   "cell_type": "code",
   "execution_count": 41,
   "id": "d8dfcc63-27bf-4d14-b3d2-fe3876812aeb",
   "metadata": {},
   "outputs": [
    {
     "data": {
      "text/html": [
       "<table class=\"dataframe\">\n",
       "<caption>A data.frame: 1 × 3</caption>\n",
       "<thead>\n",
       "\t<tr><th scope=col>Mean of One Sample</th><th scope=col>Actual Population Mean</th><th scope=col>Mean of Many Sample Means</th></tr>\n",
       "\t<tr><th scope=col>&lt;dbl&gt;</th><th scope=col>&lt;dbl&gt;</th><th scope=col>&lt;dbl&gt;</th></tr>\n",
       "</thead>\n",
       "<tbody>\n",
       "\t<tr><td>605000</td><td>620331.5</td><td>619465.4</td></tr>\n",
       "</tbody>\n",
       "</table>\n"
      ],
      "text/latex": [
       "A data.frame: 1 × 3\n",
       "\\begin{tabular}{lll}\n",
       " Mean of One Sample & Actual Population Mean & Mean of Many Sample Means\\\\\n",
       " <dbl> & <dbl> & <dbl>\\\\\n",
       "\\hline\n",
       "\t 605000 & 620331.5 & 619465.4\\\\\n",
       "\\end{tabular}\n"
      ],
      "text/markdown": [
       "\n",
       "A data.frame: 1 × 3\n",
       "\n",
       "| Mean of One Sample &lt;dbl&gt; | Actual Population Mean &lt;dbl&gt; | Mean of Many Sample Means &lt;dbl&gt; |\n",
       "|---|---|---|\n",
       "| 605000 | 620331.5 | 619465.4 |\n",
       "\n"
      ],
      "text/plain": [
       "  Mean of One Sample Actual Population Mean Mean of Many Sample Means\n",
       "1 605000             620331.5               619465.4                 "
      ]
     },
     "metadata": {},
     "output_type": "display_data"
    }
   ],
   "source": [
    "# This is the part of mean\n",
    "# Read data and apply conditions then assign it to tax_pop\n",
    "tax_pop <- tax_2019 %>%\n",
    "           filter(!is.na(current_land_value),\n",
    "                  current_land_value > 1,\n",
    "                  legal_type == \"STRATA\",\n",
    "                  zone_category == \"Multiple Family Dwelling\") %>%\n",
    "            select(current_land_value)\n",
    "\n",
    "# size of tax_pop\n",
    "tax_size <- dim(tax_pop)\n",
    "tax_obs <- nrow(tax_pop)\n",
    "\n",
    "# Read first six rows of tax_pop\n",
    "#head(tax_pop)\n",
    "# Retrieves all column names of the pop\n",
    "tax_cols <- colnames(tax_pop)\n",
    "\n",
    "# We are interested to estimate pop mean of current_land_value\n",
    "# In this case, we have acccess to population\n",
    "# Let`s calculate it and then compare results of the sample estimates\n",
    "# We can do this in two ways:\n",
    "# either dblyr way or tidyverse way\n",
    "\n",
    "# But since original data contained NAs , so we need to filter out those NAs\n",
    "tax_fast <- mean(tax_pop$current_land_value, na.rm = TRUE)\n",
    "tax_tidy <- tax_pop %>%\n",
    "            filter(!is.na(current_land_value)) %>%\n",
    "                  summarize(mean = mean(current_land_value)) \n",
    "\n",
    "\n",
    "# combines the two speed means and prints\n",
    "tax_means <- rbind(tax_fast , tax_tidy)\n",
    "\n",
    "# Visualize the population current land value\n",
    "tax_plot <- tax_pop %>%\n",
    "            filter(!is.na(current_land_value)) %>%\n",
    "            ggplot(aes(x = current_land_value)) +\n",
    "            geom_histogram(bins = 50)+\n",
    "            xlab(\"Current Land Value\") +\n",
    "            ggtitle(\"Land Value Distribution\") +\n",
    "            scale_x_continuous(labels = scales::dollar_format()) +\n",
    "            theme(axis.text.x = element_text(angle = 45, hjust = 1))\n",
    "\n",
    "# Let`s try following \"Steps of statistical inference\" to estimate\n",
    "# the current_land_value pop mean above\n",
    "\n",
    "# 1) Take a random sample, usually size <= 10 % of population size (STAT 200)\n",
    "# Since this data is large enough :\n",
    "# 213182 rows (observation) * 32 columns (variables)\n",
    "# A good size of sample is 50 or 100 which is much lower than 10% of pop size\n",
    "\n",
    "# Set a seed (this allows us a reproducible workflow)\n",
    "# BTW you can try commenting out the seed !!\n",
    "# Lets do single sample first\n",
    "set.seed(3332)\n",
    "tax_sample_one <- tax_pop %>%\n",
    "              rep_sample_n(size = 50, reps = 1)\n",
    "\n",
    "# Visualize the sample using ggplot\n",
    "tax_one_plot <- tax_sample_one %>%\n",
    "                ggplot(aes(x = current_land_value)) +\n",
    "                geom_histogram(bins=50,color = \"white\") + \n",
    "                labs(x = \"Current Land Value\" ,\n",
    "                    title = \"Land value Distribution of One sample\") +\n",
    "                scale_x_continuous(labels = scales::dollar_format()) +\n",
    "                theme(axis.text.x = element_text(angle = 45, hjust = 1))\n",
    "#tax_one_plot\n",
    "\n",
    "# 2) Calculate The point estimate (this case, the mean of the sample)\n",
    "tax_one_mean <- tax_sample_one %>%\n",
    "                summarize(sample_mean = mean(current_land_value)) \n",
    "\n",
    "# Compare with pop mean\n",
    "tax_one_vs_pop <- data.frame(\"One\" = tax_one_mean,\n",
    "                            \"Population mean\" = tax_fast) %>%\n",
    "                  select(-1)\n",
    "\n",
    "# ------------------------------------------------------------------\n",
    "\n",
    "# Now let`s try taking many different samples\n",
    "# 1) Take many random samples of size 50\n",
    "tax_many_sample <- tax_pop %>%\n",
    "                   rep_sample_n(size = 50, reps = 1000)\n",
    "\n",
    "# 2) Calculate The point estimates (this case, the mean of many samples)\n",
    "# Note this the mean of every corresponding sample\n",
    "# Eg mean of sample 1 = 586428\n",
    "# mean of sample 9 = 547782\n",
    "tax_many_mean <- tax_many_sample %>%\n",
    "                 group_by(replicate) %>%\n",
    "                summarize(sample_mean = mean(current_land_value)) \n",
    "\n",
    "# Now we need an extra step to take mean of these means, as this value\n",
    "# approximates closely to actual population parameter\n",
    "\n",
    "tax_mean_many_mean <- tax_many_mean %>%\n",
    "                      summarize(mean = mean(sample_mean))\n",
    "\n",
    "\n",
    "# Visualize the sampling distribution using ggplot\n",
    "# We added a red line, which is actual population mean\n",
    "tax_many_plot <- tax_many_mean %>%\n",
    "                ggplot(aes(x = sample_mean)) +\n",
    "                geom_histogram(bins=50,color = \"white\") + \n",
    "                labs(x = \"Sample mean of Current Land Value\" ,\n",
    "                    title = \"Sampling distribution of Sample means\") +\n",
    "                geom_vline(xintercept = tax_fast, color = \"red\") +\n",
    "                scale_x_continuous(labels = scales::dollar_format()) +\n",
    "                theme(axis.text.x = element_text(angle = 45, hjust = 1))\n",
    "#tax_many_plot\n",
    "\n",
    "\n",
    "# Compare with pop mean and one sample mean\n",
    "tax_compare_means <- merge(tax_one_vs_pop, tax_mean_many_mean) %>%\n",
    "                     setNames(., \n",
    "                              c(\"Mean of One Sample\", \"Actual Population Mean\",\n",
    "                             \"Mean of Many Sample Means\"))\n",
    "                     \n",
    "tax_compare_means\n",
    "\n",
    "\n",
    "\n",
    "\n"
   ]
  },
  {
   "cell_type": "markdown",
   "id": "6bc5bfb0-af06-49a9-9d04-6d4ffc85bffd",
   "metadata": {},
   "source": [
    "#### Part 2 \n",
    "#### IN PROGRESS"
   ]
  },
  {
   "cell_type": "code",
   "execution_count": 42,
   "id": "78d34850-1f72-45a5-b621-f111c7df6c1e",
   "metadata": {
    "tags": []
   },
   "outputs": [],
   "source": [
    "# This is the part for proportion\n",
    "\n",
    "\n",
    "# bowl itself is a population data taken from \"moderndive\" library\n",
    "# We are going to assign it to \"pop\" object\n",
    "pop <- bowl\n",
    "\n",
    "# Reads first 6 rows of the data\n",
    "# After readig, we know there are 2 columns in the data\n",
    "# ball#ad(pop)\n",
    "\n",
    "# Let`s say we are interested in calculating the mean "
   ]
  },
  {
   "cell_type": "markdown",
   "id": "2a0c6578-20b0-4125-b080-7d4aa324cce1",
   "metadata": {},
   "source": [
    "#### BELOW is code from textbook\n",
    "Ctrl + A then Ctrl + / to select all to uncomment to run\n"
   ]
  },
  {
   "cell_type": "code",
   "execution_count": 4,
   "id": "95cf1a90-b072-4583-b0f8-14649a63ddbc",
   "metadata": {
    "tags": []
   },
   "outputs": [],
   "source": [
    "# # Segment 1: sample size = 25 ------------------------------\n",
    "# # 1.a) Virtually use shovel 1000 times\n",
    "# virtual_samples_25 <- bowl %>% \n",
    "#   rep_sample_n(size = 25, reps = 1000)\n",
    "\n",
    "# # 1.b) Compute resulting 1000 replicates of proportion red\n",
    "# virtual_prop_red_25 <- virtual_samples_25 %>% \n",
    "#   group_by(replicate) %>% \n",
    "#   summarize(red = sum(color == \"red\")) %>% \n",
    "#   mutate(prop_red = red / 25)\n",
    "\n",
    "# # 1.c) Plot distribution via a histogram\n",
    "# ggplot(virtual_prop_red_25, aes(x = prop_red)) +\n",
    "#   geom_histogram(binwidth = 0.05, boundary = 0.4, color = \"white\") +\n",
    "#   labs(x = \"Proportion of 25 balls that were red\", title = \"25\") \n",
    "\n",
    "\n",
    "# # Segment 2: sample size = 50 ------------------------------\n",
    "# # 2.a) Virtually use shovel 1000 times\n",
    "# virtual_samples_50 <- bowl %>% \n",
    "#   rep_sample_n(size = 50, reps = 1000)\n",
    "\n",
    "# # 2.b) Compute resulting 1000 replicates of proportion red\n",
    "# virtual_prop_red_50 <- virtual_samples_50 %>% \n",
    "#   group_by(replicate) %>% \n",
    "#   summarize(red = sum(color == \"red\")) %>% \n",
    "#   mutate(prop_red = red / 50)\n",
    "\n",
    "# # 2.c) Plot distribution via a histogram\n",
    "# ggplot(virtual_prop_red_50, aes(x = prop_red)) +\n",
    "#   geom_histogram(binwidth = 0.05, boundary = 0.4, color = \"white\") +\n",
    "#   labs(x = \"Proportion of 50 balls that were red\", title = \"50\")  \n",
    "\n",
    "\n",
    "# # Segment 3: sample size = 100 ------------------------------\n",
    "# # 3.a) Virtually using shovel with 100 slots 1000 times\n",
    "# virtual_samples_100 <- bowl %>% \n",
    "#   rep_sample_n(size = 100, reps = 1000)\n",
    "\n",
    "# # 3.b) Compute resulting 1000 replicates of proportion red\n",
    "# virtual_prop_red_100 <- virtual_samples_100 %>% \n",
    "#   group_by(replicate) %>% \n",
    "#   summarize(red = sum(color == \"red\")) %>% \n",
    "#   mutate(prop_red = red / 100)\n",
    "\n",
    "# # 3.c) Plot distribution via a histogram\n",
    "# ggplot(virtual_prop_red_100, aes(x = prop_red)) +\n",
    "#   geom_histogram(binwidth = 0.05, boundary = 0.4, color = \"white\") +\n",
    "#   labs(x = \"Proportion of 100 balls that were red\", title = \"100\") "
   ]
  },
  {
   "cell_type": "markdown",
   "id": "582076ed-b604-40a8-bf5e-805c17d4649a",
   "metadata": {
    "tags": []
   },
   "source": [
    "#### Above is code from textbook"
   ]
  },
  {
   "cell_type": "markdown",
   "id": "9c920c81-6f85-4b40-a300-fd20f4171810",
   "metadata": {},
   "source": [
    "## <a id =\"topic2\">Populations and Sampling</a>\n",
    "### IN PROGRESS"
   ]
  },
  {
   "cell_type": "markdown",
   "id": "4ceadc26-8163-4b0b-abe6-01e21f8e6a88",
   "metadata": {},
   "source": [
    "## <a id = \"topic3\">Bootstrapping and its Relationship to Sampling Distribution</a>\n",
    "\n",
    "### IN PROGRESS"
   ]
  },
  {
   "cell_type": "markdown",
   "id": "733a6ef2-56f4-4a19-b932-3993a558e330",
   "metadata": {},
   "source": [
    "<img src=\"tables/sampl_vs_boot.png\"/>\n"
   ]
  },
  {
   "cell_type": "markdown",
   "id": "47e5b625-9624-4a5e-86ee-c6fd3691944e",
   "metadata": {},
   "source": [
    "## <a id =\"topic4\">Confidence Intervals via bootstrapping</a>"
   ]
  },
  {
   "cell_type": "code",
   "execution_count": null,
   "id": "0a363291-e257-4ce0-a5d4-6196db0df24d",
   "metadata": {},
   "outputs": [],
   "source": []
  },
  {
   "cell_type": "markdown",
   "id": "8258eb33-0226-4039-b843-cb69a24bf6a2",
   "metadata": {},
   "source": [
    " <a href=\"#top\">Back to top</a>"
   ]
  }
 ],
 "metadata": {
  "kernelspec": {
   "display_name": "R",
   "language": "R",
   "name": "ir"
  },
  "language_info": {
   "codemirror_mode": "r",
   "file_extension": ".r",
   "mimetype": "text/x-r-source",
   "name": "R",
   "pygments_lexer": "r",
   "version": "4.1.2"
  }
 },
 "nbformat": 4,
 "nbformat_minor": 5
}
