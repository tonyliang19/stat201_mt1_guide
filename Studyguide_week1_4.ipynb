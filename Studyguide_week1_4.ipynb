{
 "cells": [
  {
   "cell_type": "markdown",
   "id": "fe8ba5d4-2160-4b30-a4c1-0b575de0f0f0",
   "metadata": {},
   "source": [
    "# Stat 201 Week 1 - Week 4 Contents\n",
    "## Author: 201冲冲冲\n",
    "\n",
    "This studyguide covers all contents of week 1 and week of STAT201, eg concepts and their application in R codes. <br> \n",
    "The main title contains hyperlink to textbook, while the hyperlink next to it named <b>\"Doc hyp\"</b>takes you to the content of this guide.\n",
    "</br>\n",
    "The following are topics covered:\n",
    "* <a href=\"https://moderndive.com/7-sampling.html\"><b> Introduction to Statistical Inference and Sampling </b></a> \n",
    "<a href=\"#topic1\">Doc hyp</a>\n",
    "    +  Sample\n",
    "    +  Sampling\n",
    "    +  Point estimate\n",
    "    + Sampling variation\n",
    "    +  Sampling Distribution\n",
    "* <a href=\"https://docs.google.com/presentation/d/16DKhcwkkA3bulJ7jaECAEASVVM30_Yf_CBD1ACNZYD4/edit#slide=id.ge4a649f4_10\"><b> Populations and Sampling </b></a>\n",
    "<a href=#topic2>Doc hyp</a>\n",
    "* <a href =\"https://moderndive.com/8-confidence-intervals.html#resampling-simulation\"><b> Bootstrapping and its Relationship to Sampling Distribution </b></a> \n",
    "<a href=#topic3>Doc hyp</a>\n",
    "* <a href =\"https://moderndive.com/8-confidence-intervals.html#ci-build-up\"><b> Confidence Intervals via bootstrapping </b></a>\n",
    "<a href=#topic4>Doc hyp</a>\n",
    "\n",
    "\n",
    "\n"
   ]
  },
  {
   "cell_type": "code",
   "execution_count": 4,
   "id": "7c078e74-a917-4a1d-be91-f218dc9a5d99",
   "metadata": {
    "tags": []
   },
   "outputs": [
    {
     "name": "stderr",
     "output_type": "stream",
     "text": [
      "-- \u001b[1mAttaching packages\u001b[22m ------------------------------------------------------------------------------- tidyverse 1.3.1 --\n",
      "\n",
      "\u001b[32mv\u001b[39m \u001b[34mggplot2\u001b[39m 3.3.5     \u001b[32mv\u001b[39m \u001b[34mpurrr  \u001b[39m 0.3.4\n",
      "\u001b[32mv\u001b[39m \u001b[34mtibble \u001b[39m 3.1.6     \u001b[32mv\u001b[39m \u001b[34mdplyr  \u001b[39m 1.0.7\n",
      "\u001b[32mv\u001b[39m \u001b[34mtidyr  \u001b[39m 1.1.4     \u001b[32mv\u001b[39m \u001b[34mstringr\u001b[39m 1.4.0\n",
      "\u001b[32mv\u001b[39m \u001b[34mreadr  \u001b[39m 2.1.1     \u001b[32mv\u001b[39m \u001b[34mforcats\u001b[39m 0.5.1\n",
      "\n",
      "-- \u001b[1mConflicts\u001b[22m ---------------------------------------------------------------------------------- tidyverse_conflicts() --\n",
      "\u001b[31mx\u001b[39m \u001b[34mdplyr\u001b[39m::\u001b[32mfilter()\u001b[39m masks \u001b[34mstats\u001b[39m::filter()\n",
      "\u001b[31mx\u001b[39m \u001b[34mdplyr\u001b[39m::\u001b[32mlag()\u001b[39m    masks \u001b[34mstats\u001b[39m::lag()\n",
      "\n"
     ]
    }
   ],
   "source": [
    "# Load required packages \n",
    "library(cowplot)\n",
    "library(datateachr)\n",
    "library(infer)\n",
    "library(repr)\n",
    "library(tidyverse)\n",
    "library(moderndive)"
   ]
  },
  {
   "cell_type": "markdown",
   "id": "f414840d-b9e0-4c9e-bf00-e3ed0b49be44",
   "metadata": {},
   "source": [
    "## <a id =\"topic1\">Introduction to Statistical Inference and Sampling</a>\n"
   ]
  },
  {
   "cell_type": "markdown",
   "id": "a958f3f9-8dc2-4b85-a4c9-cb86882efc78",
   "metadata": {},
   "source": [
    "### Types of data analysis questions\n",
    "<br>\n",
    "<img src=\"tables/table1.1_types_q.png\" width=600/>\n",
    "</br>"
   ]
  },
  {
   "cell_type": "markdown",
   "id": "98322995-6ab7-4cf0-8aa4-c218eb4f6b2b",
   "metadata": {},
   "source": [
    "#### What is sample, sampling, sampling variation? sampling distribution?"
   ]
  },
  {
   "cell_type": "code",
   "execution_count": 17,
   "id": "78d34850-1f72-45a5-b621-f111c7df6c1e",
   "metadata": {},
   "outputs": [
    {
     "data": {
      "text/html": [
       "<table class=\"dataframe\">\n",
       "<caption>A data.frame: 6 × 4</caption>\n",
       "<thead>\n",
       "\t<tr><th></th><th scope=col>group</th><th scope=col>replicate</th><th scope=col>red_balls</th><th scope=col>prop_red</th></tr>\n",
       "\t<tr><th></th><th scope=col>&lt;chr&gt;</th><th scope=col>&lt;int&gt;</th><th scope=col>&lt;int&gt;</th><th scope=col>&lt;dbl&gt;</th></tr>\n",
       "</thead>\n",
       "<tbody>\n",
       "\t<tr><th scope=row>1</th><td>Ilyas, Yohan    </td><td>1</td><td>21</td><td>0.42</td></tr>\n",
       "\t<tr><th scope=row>2</th><td>Morgan, Terrance</td><td>2</td><td>17</td><td>0.34</td></tr>\n",
       "\t<tr><th scope=row>3</th><td>Martin, Thomas  </td><td>3</td><td>21</td><td>0.42</td></tr>\n",
       "\t<tr><th scope=row>4</th><td>Clark, Frank    </td><td>4</td><td>21</td><td>0.42</td></tr>\n",
       "\t<tr><th scope=row>5</th><td>Riddhi, Karina  </td><td>5</td><td>18</td><td>0.36</td></tr>\n",
       "\t<tr><th scope=row>6</th><td>Andrew, Tyler   </td><td>6</td><td>19</td><td>0.38</td></tr>\n",
       "</tbody>\n",
       "</table>\n"
      ],
      "text/latex": [
       "A data.frame: 6 × 4\n",
       "\\begin{tabular}{r|llll}\n",
       "  & group & replicate & red\\_balls & prop\\_red\\\\\n",
       "  & <chr> & <int> & <int> & <dbl>\\\\\n",
       "\\hline\n",
       "\t1 & Ilyas, Yohan     & 1 & 21 & 0.42\\\\\n",
       "\t2 & Morgan, Terrance & 2 & 17 & 0.34\\\\\n",
       "\t3 & Martin, Thomas   & 3 & 21 & 0.42\\\\\n",
       "\t4 & Clark, Frank     & 4 & 21 & 0.42\\\\\n",
       "\t5 & Riddhi, Karina   & 5 & 18 & 0.36\\\\\n",
       "\t6 & Andrew, Tyler    & 6 & 19 & 0.38\\\\\n",
       "\\end{tabular}\n"
      ],
      "text/markdown": [
       "\n",
       "A data.frame: 6 × 4\n",
       "\n",
       "| <!--/--> | group &lt;chr&gt; | replicate &lt;int&gt; | red_balls &lt;int&gt; | prop_red &lt;dbl&gt; |\n",
       "|---|---|---|---|---|\n",
       "| 1 | Ilyas, Yohan     | 1 | 21 | 0.42 |\n",
       "| 2 | Morgan, Terrance | 2 | 17 | 0.34 |\n",
       "| 3 | Martin, Thomas   | 3 | 21 | 0.42 |\n",
       "| 4 | Clark, Frank     | 4 | 21 | 0.42 |\n",
       "| 5 | Riddhi, Karina   | 5 | 18 | 0.36 |\n",
       "| 6 | Andrew, Tyler    | 6 | 19 | 0.38 |\n",
       "\n"
      ],
      "text/plain": [
       "  group            replicate red_balls prop_red\n",
       "1 Ilyas, Yohan     1         21        0.42    \n",
       "2 Morgan, Terrance 2         17        0.34    \n",
       "3 Martin, Thomas   3         21        0.42    \n",
       "4 Clark, Frank     4         21        0.42    \n",
       "5 Riddhi, Karina   5         18        0.36    \n",
       "6 Andrew, Tyler    6         19        0.38    "
      ]
     },
     "metadata": {},
     "output_type": "display_data"
    },
    {
     "data": {
      "image/png": "[encoded data removed]",
      "text/plain": [
       "plot without title"
      ]
     },
     "metadata": {
      "image/png": {
       "height": 420,
       "width": 420
      }
     },
     "output_type": "display_data"
    }
   ],
   "source": [
    "# This is a sample of size 33\n",
    "tactile_prop_red <- data.frame(tactile_prop_red)\n",
    "head(tactile_prop_red)\n",
    "\n",
    "# Visualizing the sample \n",
    "tactile_plot <- ggplot(tactile_prop_red, aes(x = prop_red)) +\n",
    "  geom_histogram(binwidth = 0.05, boundary = 0.4, color = \"white\") +\n",
    "  labs(x = \"Proportion of 50 balls that were red\", \n",
    "       title = \"Distribution of 33 proportions red\") \n",
    "\n",
    "tactile_plot"
   ]
  },
  {
   "cell_type": "code",
   "execution_count": null,
   "id": "95cf1a90-b072-4583-b0f8-14649a63ddbc",
   "metadata": {},
   "outputs": [],
   "source": []
  },
  {
   "cell_type": "markdown",
   "id": "9c920c81-6f85-4b40-a300-fd20f4171810",
   "metadata": {},
   "source": [
    "## <a id =\"topic2\">Populations and Sampling</a>\n"
   ]
  },
  {
   "cell_type": "markdown",
   "id": "4ceadc26-8163-4b0b-abe6-01e21f8e6a88",
   "metadata": {},
   "source": [
    "## <a id = \"topic3\">Bootstrapping and its Relationship to Sampling Distribution</a>"
   ]
  },
  {
   "cell_type": "markdown",
   "id": "733a6ef2-56f4-4a19-b932-3993a558e330",
   "metadata": {},
   "source": [
    "<img src=\"tables/sampl_vs_boot.png\"/>\n"
   ]
  },
  {
   "cell_type": "code",
   "execution_count": null,
   "id": "2a9e66f0-4e00-4640-a131-7bd5984c4bd4",
   "metadata": {},
   "outputs": [],
   "source": []
  },
  {
   "cell_type": "code",
   "execution_count": null,
   "id": "4c20328c-f732-4905-bf61-3be6b248a9fb",
   "metadata": {},
   "outputs": [],
   "source": []
  },
  {
   "cell_type": "code",
   "execution_count": null,
   "id": "dbe8349c-c9da-4bc7-b4e7-9f0f6bc343fd",
   "metadata": {},
   "outputs": [],
   "source": []
  },
  {
   "cell_type": "code",
   "execution_count": null,
   "id": "0db0fb92-f08c-46bf-bd86-7d5c198da615",
   "metadata": {},
   "outputs": [],
   "source": []
  },
  {
   "cell_type": "markdown",
   "id": "47e5b625-9624-4a5e-86ee-c6fd3691944e",
   "metadata": {},
   "source": [
    "## <a id =\"topic4\">Confidence Intervals via bootstrapping</a>"
   ]
  },
  {
   "cell_type": "code",
   "execution_count": null,
   "id": "4e757962-c275-44d0-8082-9bd5471ae517",
   "metadata": {},
   "outputs": [],
   "source": []
  },
  {
   "cell_type": "code",
   "execution_count": null,
   "id": "0a363291-e257-4ce0-a5d4-6196db0df24d",
   "metadata": {},
   "outputs": [],
   "source": []
  },
  {
   "cell_type": "markdown",
   "id": "8258eb33-0226-4039-b843-cb69a24bf6a2",
   "metadata": {},
   "source": [
    " <a href=\"#top\">Back to top</a>"
   ]
  }
 ],
 "metadata": {
  "kernelspec": {
   "display_name": "R",
   "language": "R",
   "name": "ir"
  },
  "language_info": {
   "codemirror_mode": "r",
   "file_extension": ".r",
   "mimetype": "text/x-r-source",
   "name": "R",
   "pygments_lexer": "r",
   "version": "4.1.2"
  }
 },
 "nbformat": 4,
 "nbformat_minor": 5
}
